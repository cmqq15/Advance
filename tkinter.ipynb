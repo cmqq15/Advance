{
 "cells": [
  {
   "cell_type": "code",
   "execution_count": 1,
   "id": "c54019a2",
   "metadata": {},
   "outputs": [],
   "source": [
    "import tkinter as tk\n",
    "from tkinter import messagebox"
   ]
  },
  {
   "cell_type": "code",
   "execution_count": 2,
   "id": "2fce1396",
   "metadata": {},
   "outputs": [
    {
     "data": {
      "text/plain": [
       "''"
      ]
     },
     "execution_count": 2,
     "metadata": {},
     "output_type": "execute_result"
    }
   ],
   "source": [
    "# Create the main application window\n",
    "root = tk.Tk()\n",
    "root.title(\"Greeting App\")\n",
    "root.geometry(\"300x200\")  # Set the size of the wind"
   ]
  },
  {
   "cell_type": "code",
   "execution_count": 3,
   "id": "d1b6c7c4",
   "metadata": {},
   "outputs": [],
   "source": [
    "# Function to display the greeting\n",
    "def greet():\n",
    "    name = name_entry.get()\n",
    "    if name:\n",
    "        messagebox.showinfo(\"Greeting\", f\"Hello, {name}!\")\n",
    "    else:\n",
    "        messagebox.showwarning(\"Input Error\", \"Please enter your name.\")"
   ]
  },
  {
   "cell_type": "code",
   "execution_count": 4,
   "id": "a5f0f6ff",
   "metadata": {},
   "outputs": [],
   "source": [
    "# Create a label\n",
    "name_label = tk.Label(root, text=\"Enter your name:\")\n",
    "name_label.pack(pady=10)  # Padding around the widget"
   ]
  },
  {
   "cell_type": "code",
   "execution_count": 5,
   "id": "e0df6932",
   "metadata": {},
   "outputs": [],
   "source": [
    "# Create an entry box for user input\n",
    "name_entry = tk.Entry(root)\n",
    "name_entry.pack(pady=10)"
   ]
  },
  {
   "cell_type": "code",
   "execution_count": 6,
   "id": "b29ff36c",
   "metadata": {},
   "outputs": [],
   "source": [
    "# Create a button that triggers the greet function\n",
    "greet_button = tk.Button(root, text=\"Greet\", command=greet)\n",
    "greet_button.pack(pady=10)"
   ]
  },
  {
   "cell_type": "code",
   "execution_count": 7,
   "id": "3690b75b",
   "metadata": {},
   "outputs": [],
   "source": [
    "# Start the Tkinter event loop\n",
    "root.mainloop()"
   ]
  },
  {
   "cell_type": "code",
   "execution_count": null,
   "id": "a9d2c645",
   "metadata": {},
   "outputs": [],
   "source": []
  }
 ],
 "metadata": {
  "kernelspec": {
   "display_name": "base",
   "language": "python",
   "name": "python3"
  },
  "language_info": {
   "codemirror_mode": {
    "name": "ipython",
    "version": 3
   },
   "file_extension": ".py",
   "mimetype": "text/x-python",
   "name": "python",
   "nbconvert_exporter": "python",
   "pygments_lexer": "ipython3",
   "version": "3.12.7"
  }
 },
 "nbformat": 4,
 "nbformat_minor": 5
}
