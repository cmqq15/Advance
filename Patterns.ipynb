{
 "cells": [
  {
   "cell_type": "markdown",
   "id": "684bae16",
   "metadata": {},
   "source": [
    "# Patterns in Python\n",
    "\n",
    "## Introduction\n",
    "\n",
    "'Patterns are an essential aspect of programming that can be both fun and challenging to work with. They are not only aesthetically pleasing but also serve as a valuable tool in enhancing your problem-solving skills and understanding of programming concepts. Python, being a versatile and popular programming language, provides various ways to create intricate patterns effortlessly. In this article, we will explore some of the most important pattern programs in Python, each designed to help you improve your coding skills.'\n",
    "\n",
    "## Why Learn Pattern Programming?\n",
    "\n",
    "'Before we dive into the patterns themselves, let’s briefly discuss why learning pattern programming is valuable:\n",
    "\n",
    "    Problem-Solving Skills: Patterns often require a logical approach to problem-solving, teaching you how to break down complex problems into simpler, more manageable steps.\n",
    "    Algorithmic Thinking: Working with patterns helps you develop algorithmic thinking, a crucial skill for solving real-world problems in programming and beyond.\n",
    "    Coding Aesthetics: Patterns add a creative touch to your code, making it more visually appealing and easier to understand for you and others.\n",
    "    Interview Preparation: Many technical interviews for programming positions include pattern-related questions to assess candidates’ problem-solving abilities.\n",
    "    Building Confidence: Successfully creating patterns can boost your confidence in your coding skills.'\n",
    "\n"
   ]
  },
  {
   "cell_type": "markdown",
   "id": "859075eb",
   "metadata": {},
   "source": [
    "## Sources\n",
    "\n",
    "https://pyseek.com/2022/02/learn-25-important-pattern-programs-in-python/\n",
    "\n",
    "https://codewithcurious.com/blogs/50-python-pattern-programs/\n",
    "\n",
    "https://pynative.com/print-pattern-python-examples/#h-steps-to-print-pattern-in-python\n",
    "\n",
    "https://www.geeksforgeeks.org/programs-printing-pyramid-patterns-python/"
   ]
  },
  {
   "cell_type": "markdown",
   "id": "ee8ff33d",
   "metadata": {},
   "source": [
    "## Examples"
   ]
  },
  {
   "cell_type": "code",
   "execution_count": 1,
   "id": "1f092ff0",
   "metadata": {},
   "outputs": [
    {
     "name": "stdout",
     "output_type": "stream",
     "text": [
      "    *\n",
      "   ***\n",
      "  *****\n",
      " *******\n",
      "*********\n"
     ]
    }
   ],
   "source": [
    "# # Function to print full pyramid pattern\n",
    "def full_pyramid(n):\n",
    "    for i in range(1, n + 1):\n",
    "        # Print leading spaces\n",
    "        for j in range(n - i):\n",
    "            print(\" \", end=\"\")\n",
    "        \n",
    "        # Print asterisks for the current row\n",
    "        for k in range(1, 2*i):\n",
    "            print(\"*\", end=\"\")\n",
    "        print()\n",
    "   \n",
    "full_pyramid(5)"
   ]
  },
  {
   "cell_type": "code",
   "execution_count": 2,
   "id": "bf6bc7bf",
   "metadata": {},
   "outputs": [
    {
     "name": "stdout",
     "output_type": "stream",
     "text": [
      "    *\n",
      "   ***\n",
      "  *****\n",
      " *******\n",
      "*********\n"
     ]
    }
   ],
   "source": [
    "# Example 1: Full Pyramid Patterns in Python Recursion\n",
    "def print_space(space):\n",
    "    if space > 0:\n",
    "        print(\" \", end=\"\")\n",
    "        print_space(space - 1)\n",
    "\n",
    "def print_star(star):\n",
    "    if star > 0:\n",
    "        print(\"*\", end=\"\")\n",
    "        print_star(star - 1)\n",
    "\n",
    "def print_pyramid(n, current_row=1):\n",
    "    if current_row > n:\n",
    "        return\n",
    "\n",
    "    spaces = n - current_row\n",
    "    stars = 2 * current_row - 1\n",
    "\n",
    "    # Print spaces\n",
    "    print_space(spaces)\n",
    "\n",
    "    # Print stars\n",
    "    print_star(stars)\n",
    "\n",
    "    # Move to the next line for the next row\n",
    "    print()\n",
    "\n",
    "    # Print the pyramid for the next row\n",
    "    print_pyramid(n, current_row + 1)\n",
    "\n",
    "# Set the number of rows for the pyramid\n",
    "n = 5\n",
    "\n",
    "# Print the pyramid pattern\n",
    "print_pyramid(n)"
   ]
  },
  {
   "cell_type": "code",
   "execution_count": 3,
   "id": "1e69b8ba",
   "metadata": {},
   "outputs": [
    {
     "name": "stdout",
     "output_type": "stream",
     "text": [
      "      A \n",
      "     A B \n",
      "    A B C \n",
      "   A B C D \n",
      "  A B C D E \n"
     ]
    }
   ],
   "source": [
    "# Example 2: Pyramid Patterns in Python with Alphabet\n",
    "n = 5\n",
    "alph = 65\n",
    "for i in range(0, n):\n",
    "    print(\" \" * (n-i), end=\" \")\n",
    "    for j in range(0, i+1):\n",
    "        print(chr(alph), end=\" \")\n",
    "        alph += 1\n",
    "    alph = 65\n",
    "    print()"
   ]
  },
  {
   "cell_type": "markdown",
   "id": "b368b76c",
   "metadata": {},
   "source": [
    "## 1. Right Angle Triangle Pattern"
   ]
  },
  {
   "cell_type": "code",
   "execution_count": 4,
   "id": "2095020a",
   "metadata": {},
   "outputs": [
    {
     "name": "stdout",
     "output_type": "stream",
     "text": [
      "*\n",
      "**\n",
      "***\n",
      "****\n",
      "*****\n"
     ]
    }
   ],
   "source": [
    "# https://codewithcurious.com/blogs/50-python-pattern-programs/\n",
    "for i in range(1, 6):\n",
    "    print('*' * i)"
   ]
  },
  {
   "cell_type": "markdown",
   "id": "9a450c4f",
   "metadata": {},
   "source": [
    "## 2. Inverted Right Angle Triangle Pattern\n",
    "\n"
   ]
  },
  {
   "cell_type": "code",
   "execution_count": 5,
   "id": "393e0b4a",
   "metadata": {},
   "outputs": [
    {
     "name": "stdout",
     "output_type": "stream",
     "text": [
      "*****\n",
      "****\n",
      "***\n",
      "**\n",
      "*\n"
     ]
    }
   ],
   "source": [
    "for i in range(5, 0, -1):\n",
    "      print('*' * i)"
   ]
  },
  {
   "cell_type": "markdown",
   "id": "071b18f7",
   "metadata": {},
   "source": [
    "## 3. Pyramid Pattern"
   ]
  },
  {
   "cell_type": "code",
   "execution_count": 6,
   "id": "7b45ff26",
   "metadata": {},
   "outputs": [
    {
     "name": "stdout",
     "output_type": "stream",
     "text": [
      "    *\n",
      "   ***\n",
      "  *****\n",
      " *******\n",
      "*********\n"
     ]
    }
   ],
   "source": [
    "for i in range(1, 6):\n",
    "    print(' ' * (5 - i) + '*' * (2 * i - 1))"
   ]
  },
  {
   "cell_type": "markdown",
   "id": "05118b40",
   "metadata": {},
   "source": [
    "## 4. Inverted Pyramid Pattern"
   ]
  },
  {
   "cell_type": "code",
   "execution_count": 7,
   "id": "fc3c93f9",
   "metadata": {},
   "outputs": [
    {
     "name": "stdout",
     "output_type": "stream",
     "text": [
      "*********\n",
      " *******\n",
      "  *****\n",
      "   ***\n",
      "    *\n"
     ]
    }
   ],
   "source": [
    "for i in range(5, 0, -1):\n",
    "    print(' ' * (5 - i) + '*' * (2 * i - 1))"
   ]
  },
  {
   "cell_type": "markdown",
   "id": "5ff67cdb",
   "metadata": {},
   "source": [
    "## 5. Diamond Pattern"
   ]
  },
  {
   "cell_type": "code",
   "execution_count": 8,
   "id": "9ae96ddc",
   "metadata": {},
   "outputs": [
    {
     "name": "stdout",
     "output_type": "stream",
     "text": [
      "    *\n",
      "   ***\n",
      "  *****\n",
      " *******\n",
      "*********\n",
      " *******\n",
      "  *****\n",
      "   ***\n",
      "    *\n"
     ]
    }
   ],
   "source": [
    "for i in range(1, 6):\n",
    "    print(' ' * (5 - i) + '*' * (2 * i - 1))\n",
    "for i in range(4, 0, -1):\n",
    "    print(' ' * (5 - i) + '*' * (2 * i - 1))"
   ]
  },
  {
   "cell_type": "markdown",
   "id": "d0a793e4",
   "metadata": {},
   "source": [
    "## 6. Hollow Square Pattern"
   ]
  },
  {
   "cell_type": "code",
   "execution_count": 9,
   "id": "4e2af9c0",
   "metadata": {},
   "outputs": [
    {
     "name": "stdout",
     "output_type": "stream",
     "text": [
      "*****\n",
      "*   *\n",
      "*   *\n",
      "*   *\n",
      "*****\n"
     ]
    }
   ],
   "source": [
    "for i in range(5):\n",
    "    for j in range(5):\n",
    "        if i == 0 or i == 4 or j == 0 or j == 4:\n",
    "            print('*', end='')\n",
    "        else:\n",
    "            print(' ', end='')\n",
    "    print()"
   ]
  },
  {
   "cell_type": "markdown",
   "id": "5c04338f",
   "metadata": {},
   "source": [
    "## 7. Full Square Pattern"
   ]
  },
  {
   "cell_type": "code",
   "execution_count": 10,
   "id": "f8c8e562",
   "metadata": {},
   "outputs": [
    {
     "name": "stdout",
     "output_type": "stream",
     "text": [
      "*****\n",
      "*****\n",
      "*****\n",
      "*****\n",
      "*****\n"
     ]
    }
   ],
   "source": [
    "for i in range(5):\n",
    "    print('*' * 5)"
   ]
  },
  {
   "cell_type": "markdown",
   "id": "916b8370",
   "metadata": {},
   "source": [
    "## 8. Right Angle Triangle (Number Pattern)"
   ]
  },
  {
   "cell_type": "code",
   "execution_count": 11,
   "id": "d0dec176",
   "metadata": {},
   "outputs": [
    {
     "name": "stdout",
     "output_type": "stream",
     "text": [
      "1\n",
      "1 2\n",
      "1 2 3\n",
      "1 2 3 4\n",
      "1 2 3 4 5\n"
     ]
    }
   ],
   "source": [
    "for i in range(1, 6):\n",
    "    print(' '.join(str(x) for x in range(1, i + 1)))"
   ]
  },
  {
   "cell_type": "markdown",
   "id": "7ca1fead",
   "metadata": {},
   "source": [
    "## 9. Inverted Right Angle Triangle (Number Pattern)"
   ]
  },
  {
   "cell_type": "code",
   "execution_count": 12,
   "id": "23aed91d",
   "metadata": {},
   "outputs": [
    {
     "name": "stdout",
     "output_type": "stream",
     "text": [
      "1 2 3 4 5\n",
      "1 2 3 4\n",
      "1 2 3\n",
      "1 2\n",
      "1\n"
     ]
    }
   ],
   "source": [
    "\n",
    "\n",
    "for i in range(5, 0, -1):\n",
    "    print(' '.join(str(x) for x in range(1, i + 1)))"
   ]
  },
  {
   "cell_type": "markdown",
   "id": "f55ed74d",
   "metadata": {},
   "source": [
    "## 10. Floyd's Triangle"
   ]
  },
  {
   "cell_type": "code",
   "execution_count": 13,
   "id": "e6029a3e",
   "metadata": {},
   "outputs": [
    {
     "name": "stdout",
     "output_type": "stream",
     "text": [
      "1 \n",
      "2 3 \n",
      "4 5 6 \n",
      "7 8 9 10 \n",
      "11 12 13 14 15 \n"
     ]
    }
   ],
   "source": [
    "\n",
    "\n",
    "num = 1\n",
    "for i in range(1, 6):\n",
    "    for j in range(1, i + 1):\n",
    "        print(num, end=' ')\n",
    "        num += 1\n",
    "    print()"
   ]
  },
  {
   "cell_type": "markdown",
   "id": "09cd0e9e",
   "metadata": {},
   "source": [
    "## 11. Hollow Right Angle Triangle"
   ]
  },
  {
   "cell_type": "code",
   "execution_count": 14,
   "id": "e53acc7c",
   "metadata": {},
   "outputs": [
    {
     "name": "stdout",
     "output_type": "stream",
     "text": [
      "*\n",
      "**\n",
      "* *\n",
      "*  *\n",
      "*****\n"
     ]
    }
   ],
   "source": [
    "\n",
    "for i in range(1, 6):\n",
    "    for j in range(1, i + 1):\n",
    "        if j == 1 or j == i or i == 5:\n",
    "            print('*', end='')\n",
    "        else:\n",
    "            print(' ', end='')\n",
    "    print()"
   ]
  },
  {
   "cell_type": "markdown",
   "id": "d050d146",
   "metadata": {},
   "source": [
    "## 12. Hollow Pyramid Pattern"
   ]
  },
  {
   "cell_type": "code",
   "execution_count": 15,
   "id": "4bdc034e",
   "metadata": {},
   "outputs": [
    {
     "name": "stdout",
     "output_type": "stream",
     "text": [
      "    *\n",
      "   * *\n",
      "  *   *\n",
      " *     *\n",
      "*********\n"
     ]
    }
   ],
   "source": [
    "\n",
    "\n",
    "for i in range(1, 6):\n",
    "    for j in range(5 - i):\n",
    "        print(' ', end='')\n",
    "    for j in range(2 * i - 1):\n",
    "        if j == 0 or j == 2 * i - 2 or i == 5:\n",
    "            print('*', end='')\n",
    "        else:\n",
    "            print(' ', end='')\n",
    "    print()"
   ]
  },
  {
   "cell_type": "markdown",
   "id": "82355140",
   "metadata": {},
   "source": [
    "## 13. Hollow Diamond Pattern"
   ]
  },
  {
   "cell_type": "code",
   "execution_count": 16,
   "id": "9fe9f1f9",
   "metadata": {},
   "outputs": [
    {
     "name": "stdout",
     "output_type": "stream",
     "text": [
      "    *\n",
      "   * *\n",
      "  *   *\n",
      " *     *\n",
      "*       *\n",
      " *     *\n",
      "  *   *\n",
      "   * *\n",
      "    *\n"
     ]
    }
   ],
   "source": [
    "\n",
    "\n",
    "n = 5\n",
    "for i in range(1, n + 1):\n",
    "    print(' ' * (n - i) + '*' + ' ' * (2 * i - 3) + ('*' if i > 1 else ''))\n",
    "for i in range(n - 1, 0, -1):\n",
    "    print(' ' * (n - i) + '*' + ' ' * (2 * i - 3) + ('*' if i > 1 else ''))"
   ]
  },
  {
   "cell_type": "markdown",
   "id": "354bdd9b",
   "metadata": {},
   "source": [
    "## 14. Hollow Diamond (Number Pattern)"
   ]
  },
  {
   "cell_type": "code",
   "execution_count": 17,
   "id": "29cc6a59",
   "metadata": {},
   "outputs": [
    {
     "name": "stdout",
     "output_type": "stream",
     "text": [
      "    1\n",
      "   2 2\n",
      "  3   3\n",
      " 4     4\n",
      "5       5\n"
     ]
    }
   ],
   "source": [
    "\n",
    "\n",
    "n = 5\n",
    "for i in range(1, n + 1):\n",
    "    for j in range(1, n - i + 1):\n",
    "        print(' ', end='')\n",
    "    for j in range(1, 2 * i):\n",
    "        if j == 1 or j == 2 * i - 1:\n",
    "            print(i, end='')\n",
    "        else:\n",
    "            print(' ', end='')\n",
    "    print()"
   ]
  },
  {
   "cell_type": "markdown",
   "id": "4ccead96",
   "metadata": {},
   "source": [
    "## 15. Butterfly Pattern"
   ]
  },
  {
   "cell_type": "code",
   "execution_count": 18,
   "id": "4dd57ebd",
   "metadata": {},
   "outputs": [
    {
     "name": "stdout",
     "output_type": "stream",
     "text": [
      "*       *\n",
      "**     **\n",
      "***   ***\n",
      "**** ****\n",
      "**********\n"
     ]
    }
   ],
   "source": [
    "\n",
    "\n",
    "for i in range(1, 6):\n",
    "    for j in range(1, i + 1):\n",
    "        print('*', end='')\n",
    "    for j in range(1, 2 * (5 - i)): \n",
    "        print(' ', end='')\n",
    "    for j in range(1, i + 1):\n",
    "        print('*', end='')\n",
    "    print()"
   ]
  },
  {
   "cell_type": "markdown",
   "id": "e8fbdad6",
   "metadata": {},
   "source": [
    "## 16. Hollow Number Pyramid"
   ]
  },
  {
   "cell_type": "code",
   "execution_count": 19,
   "id": "b21edc02",
   "metadata": {},
   "outputs": [
    {
     "name": "stdout",
     "output_type": "stream",
     "text": [
      "    1\n",
      "   2 2\n",
      "  3   3\n",
      " 4     4\n",
      "5       5\n"
     ]
    }
   ],
   "source": [
    "\n",
    "\n",
    "for i in range(1, 6):\n",
    "    for j in range(1, 6 - i):\n",
    "        print(' ', end='')\n",
    "    for j in range(1, 2 * i):\n",
    "        if j == 1 or j == 2 * i - 1:\n",
    "            print(i, end='')\n",
    "        else:\n",
    "            print(' ', end='')\n",
    "    print()"
   ]
  },
  {
   "cell_type": "markdown",
   "id": "fc21aec7",
   "metadata": {},
   "source": [
    "## 17. Full Star Pyramid"
   ]
  },
  {
   "cell_type": "code",
   "execution_count": 20,
   "id": "ec6a3c6f",
   "metadata": {},
   "outputs": [
    {
     "name": "stdout",
     "output_type": "stream",
     "text": [
      "    *\n",
      "   ***\n",
      "  *****\n",
      " *******\n",
      "*********\n"
     ]
    }
   ],
   "source": [
    "\n",
    "\n",
    "for i in range(1, 6):\n",
    "    print(' ' * (5 - i) + '*' * (2 * i - 1))"
   ]
  },
  {
   "cell_type": "markdown",
   "id": "1713678f",
   "metadata": {},
   "source": [
    "## 18. Inverted Full Star Pyramid"
   ]
  },
  {
   "cell_type": "code",
   "execution_count": 21,
   "id": "802ebbe5",
   "metadata": {},
   "outputs": [
    {
     "name": "stdout",
     "output_type": "stream",
     "text": [
      "*********\n",
      " *******\n",
      "  *****\n",
      "   ***\n",
      "    *\n"
     ]
    }
   ],
   "source": [
    "\n",
    "\n",
    "for i in range(5, 0, -1):\n",
    "    print(' ' * (5 - i) + '*' * (2 * i - 1))"
   ]
  },
  {
   "cell_type": "markdown",
   "id": "d34972a0",
   "metadata": {},
   "source": [
    "## 19. Left Aligned Pyramid Pattern"
   ]
  },
  {
   "cell_type": "code",
   "execution_count": 22,
   "id": "ef8f9729",
   "metadata": {},
   "outputs": [
    {
     "name": "stdout",
     "output_type": "stream",
     "text": [
      "*\n",
      "**\n",
      "***\n",
      "****\n",
      "*****\n"
     ]
    }
   ],
   "source": [
    "\n",
    "\n",
    "for i in range(1, 6):\n",
    "    print('*' * i)"
   ]
  },
  {
   "cell_type": "markdown",
   "id": "7ff819c6",
   "metadata": {},
   "source": [
    "## 20. Right Aligned Pyramid Pattern"
   ]
  },
  {
   "cell_type": "code",
   "execution_count": 23,
   "id": "8a954f3e",
   "metadata": {},
   "outputs": [
    {
     "name": "stdout",
     "output_type": "stream",
     "text": [
      "    *\n",
      "   **\n",
      "  ***\n",
      " ****\n",
      "*****\n"
     ]
    }
   ],
   "source": [
    "\n",
    "\n",
    "for i in range(1, 6):\n",
    "    print(' ' * (5 - i) + '*' * i)"
   ]
  },
  {
   "cell_type": "markdown",
   "id": "0aeea39b",
   "metadata": {},
   "source": [
    "## 21. Pascal's Triangle"
   ]
  },
  {
   "cell_type": "code",
   "execution_count": 24,
   "id": "20fc185b",
   "metadata": {},
   "outputs": [
    {
     "name": "stdout",
     "output_type": "stream",
     "text": [
      "    1 \n",
      "   1 1 \n",
      "  1 2 1 \n",
      " 1 3 3 1 \n",
      "1 4 6 4 1 \n"
     ]
    }
   ],
   "source": [
    "\n",
    "import math\n",
    "n = 5\n",
    "for i in range(n):\n",
    "    for j in range(n - i - 1):\n",
    "        print(' ', end='')\n",
    "    for j in range(i + 1):\n",
    "        print(str(math.comb(i, j)) + ' ', end='')\n",
    "    print()"
   ]
  },
  {
   "cell_type": "markdown",
   "id": "8cd62aa8",
   "metadata": {},
   "source": [
    "## 22. Zig-Zag Pattern"
   ]
  },
  {
   "cell_type": "code",
   "execution_count": 25,
   "id": "6239f8b5",
   "metadata": {},
   "outputs": [
    {
     "name": "stdout",
     "output_type": "stream",
     "text": [
      "*\n",
      " *\n",
      "***\n",
      "   *\n",
      "*****\n"
     ]
    }
   ],
   "source": [
    "\n",
    "\n",
    "for i in range(1, 6):\n",
    "    if i % 2 == 0:\n",
    "        print(' ' * (i - 1) + '*')\n",
    "    else:\n",
    "        print('*' * i)"
   ]
  },
  {
   "cell_type": "markdown",
   "id": "3bfa9a10",
   "metadata": {},
   "source": [
    "## 23. Hourglass Pattern"
   ]
  },
  {
   "cell_type": "code",
   "execution_count": 26,
   "id": "85b85e42",
   "metadata": {},
   "outputs": [
    {
     "name": "stdout",
     "output_type": "stream",
     "text": [
      "*********\n",
      " *******\n",
      "  *****\n",
      "   ***\n",
      "    *\n",
      "   ***\n",
      "  *****\n",
      " *******\n",
      "*********\n"
     ]
    }
   ],
   "source": [
    "\n",
    "\n",
    "for i in range(5, 0, -1):\n",
    "    print(' ' * (5 - i) + '*' * (2 * i - 1))\n",
    "for i in range(2, 6):\n",
    "    print(' ' * (5 - i) + '*' * (2 * i - 1))"
   ]
  },
  {
   "cell_type": "markdown",
   "id": "0592c6ed",
   "metadata": {},
   "source": [
    "## 24. Diamond Shape with Numbers"
   ]
  },
  {
   "cell_type": "code",
   "execution_count": 27,
   "id": "731be890",
   "metadata": {},
   "outputs": [
    {
     "name": "stdout",
     "output_type": "stream",
     "text": [
      "    1\n",
      "   222\n",
      "  33333\n",
      " 4444444\n",
      "555555555\n",
      " 4444444\n",
      "  33333\n",
      "   222\n",
      "    1\n"
     ]
    }
   ],
   "source": [
    "\n",
    "\n",
    "for i in range(1, 6):\n",
    "    print(' ' * (5 - i) + str(i) * (2 * i - 1))\n",
    "for i in range(4, 0, -1):\n",
    "    print(' ' * (5 - i) + str(i) * (2 * i - 1))"
   ]
  },
  {
   "cell_type": "markdown",
   "id": "b5e45ce4",
   "metadata": {},
   "source": [
    "## 25. Hollow Rhombus Pattern"
   ]
  },
  {
   "cell_type": "code",
   "execution_count": 28,
   "id": "8dfa919b",
   "metadata": {},
   "outputs": [
    {
     "name": "stdout",
     "output_type": "stream",
     "text": [
      "*****\n",
      "*   *\n",
      "*   *\n",
      "*   *\n",
      "*****\n"
     ]
    }
   ],
   "source": [
    "\n",
    "\n",
    "for i in range(1, 6):\n",
    "    for j in range(1, 6):\n",
    "        if i == 1 or i == 5 or j == 1 or j == 5:\n",
    "            print('*', end='')\n",
    "        else:\n",
    "            print(' ', end='')\n",
    "    print()"
   ]
  },
  {
   "cell_type": "markdown",
   "id": "f3fb2df0",
   "metadata": {},
   "source": [
    "## 26. Numeric Pyramid"
   ]
  },
  {
   "cell_type": "code",
   "execution_count": 29,
   "id": "6ebb585e",
   "metadata": {},
   "outputs": [
    {
     "name": "stdout",
     "output_type": "stream",
     "text": [
      "    1\n",
      "   1 2\n",
      "  1 2 3\n",
      " 1 2 3 4\n",
      "1 2 3 4 5\n"
     ]
    }
   ],
   "source": [
    "\n",
    "\n",
    "for i in range(1, 6):\n",
    "    print(' ' * (5 - i) + ' '.join(str(x) for x in range(1, i + 1)))"
   ]
  },
  {
   "cell_type": "markdown",
   "id": "83978a86",
   "metadata": {},
   "source": [
    "## 27. Hollow Diamond with Numbers"
   ]
  },
  {
   "cell_type": "code",
   "execution_count": 30,
   "id": "57416b7c",
   "metadata": {},
   "outputs": [
    {
     "name": "stdout",
     "output_type": "stream",
     "text": [
      "    1\n",
      "   2 2\n",
      "  3   3\n",
      " 4     4\n",
      "5       5\n",
      " 4     4\n",
      "  3   3\n",
      "   2 2\n",
      "    1\n"
     ]
    }
   ],
   "source": [
    "\n",
    "\n",
    "for i in range(1, 6):\n",
    "    for j in range(1, 6 - i):\n",
    "        print(' ', end='')\n",
    "    for j in range(1, 2 * i):\n",
    "        if j == 1 or j == 2 * i - 1:\n",
    "            print(i, end='')\n",
    "        else:\n",
    "            print(' ', end='')\n",
    "    print()\n",
    "for i in range(4, 0, -1):\n",
    "    for j in range(1, 6 - i):\n",
    "        print(' ', end='')\n",
    "    for j in range(1, 2 * i):\n",
    "        if j == 1 or j == 2 * i - 1:\n",
    "            print(i, end='')\n",
    "        else:\n",
    "            print(' ', end='')\n",
    "    print()"
   ]
  },
  {
   "cell_type": "markdown",
   "id": "95d26541",
   "metadata": {},
   "source": [
    "## 28. Reverse Pyramid with Numbers"
   ]
  },
  {
   "cell_type": "code",
   "execution_count": 31,
   "id": "e52ab785",
   "metadata": {},
   "outputs": [
    {
     "name": "stdout",
     "output_type": "stream",
     "text": [
      "1 2 3 4 5\n",
      " 1 2 3 4\n",
      "  1 2 3\n",
      "   1 2\n",
      "    1\n"
     ]
    }
   ],
   "source": [
    "\n",
    "\n",
    "for i in range(5, 0, -1):\n",
    "    print(' ' * (5 - i) + ' '.join(str(x) for x in range(1, i + 1)))"
   ]
  },
  {
   "cell_type": "markdown",
   "id": "a43437fe",
   "metadata": {},
   "source": [
    "## 29. Diamond Star Pattern"
   ]
  },
  {
   "cell_type": "code",
   "execution_count": 32,
   "id": "de121507",
   "metadata": {},
   "outputs": [
    {
     "name": "stdout",
     "output_type": "stream",
     "text": [
      "    *\n",
      "   ***\n",
      "  *****\n",
      " *******\n",
      "*********\n",
      " *******\n",
      "  *****\n",
      "   ***\n",
      "    *\n"
     ]
    }
   ],
   "source": [
    "\n",
    "\n",
    "for i in range(1, 6):\n",
    "    print(' ' * (5 - i) + '*' * (2 * i - 1))\n",
    "for i in range(4, 0, -1):\n",
    "    print(' ' * (5 - i) + '*' * (2 * i - 1))"
   ]
  },
  {
   "cell_type": "markdown",
   "id": "86540cf0",
   "metadata": {},
   "source": [
    "## 30. Full Number Pyramid"
   ]
  },
  {
   "cell_type": "code",
   "execution_count": 33,
   "id": "bdf04a61",
   "metadata": {},
   "outputs": [
    {
     "name": "stdout",
     "output_type": "stream",
     "text": [
      "    1\n",
      "   12\n",
      "  123\n",
      " 1234\n",
      "12345\n"
     ]
    }
   ],
   "source": [
    "\n",
    "\n",
    "for i in range(1, 6):\n",
    "    print(' ' * (5 - i) + ''.join(str(x) for x in range(1, i + 1)))"
   ]
  },
  {
   "cell_type": "markdown",
   "id": "9002ca1e",
   "metadata": {},
   "source": [
    "## 31. Checkerboard Pattern"
   ]
  },
  {
   "cell_type": "code",
   "execution_count": 34,
   "id": "ca4cb71c",
   "metadata": {},
   "outputs": [
    {
     "name": "stdout",
     "output_type": "stream",
     "text": [
      "* * *\n",
      " * * \n",
      "* * *\n",
      " * * \n",
      "* * *\n"
     ]
    }
   ],
   "source": [
    "\n",
    "\n",
    "for i in range(5):\n",
    "    for j in range(5):\n",
    "        if (i + j) % 2 == 0:\n",
    "            print('*', end='')\n",
    "        else:\n",
    "            print(' ', end='')\n",
    "    print()"
   ]
  },
  {
   "cell_type": "markdown",
   "id": "29686b56",
   "metadata": {},
   "source": [
    "## 32. Hollow Circle Pattern"
   ]
  },
  {
   "cell_type": "code",
   "execution_count": 35,
   "id": "89ae2e5b",
   "metadata": {},
   "outputs": [
    {
     "name": "stdout",
     "output_type": "stream",
     "text": [
      "  *  \n",
      " *** \n",
      "*****\n",
      " *** \n",
      "  *  \n"
     ]
    }
   ],
   "source": [
    "\n",
    "\n",
    "for i in range(1, 6):\n",
    "    for j in range(1, 6):\n",
    "        if math.dist([i, j], [3, 3]) <= 2:\n",
    "            print('*', end='')\n",
    "        else:\n",
    "            print(' ', end='')\n",
    "    print()"
   ]
  },
  {
   "cell_type": "markdown",
   "id": "5105a3af",
   "metadata": {},
   "source": [
    "## 33. Triangle of Numbers"
   ]
  },
  {
   "cell_type": "code",
   "execution_count": 36,
   "id": "4a090fc2",
   "metadata": {},
   "outputs": [
    {
     "name": "stdout",
     "output_type": "stream",
     "text": [
      "1\n",
      "12\n",
      "123\n",
      "1234\n",
      "12345\n"
     ]
    }
   ],
   "source": [
    "\n",
    "\n",
    "for i in range(1, 6):\n",
    "    for j in range(1, i + 1):\n",
    "        print(j, end='')\n",
    "    print()"
   ]
  },
  {
   "cell_type": "markdown",
   "id": "5f8d7fdf",
   "metadata": {},
   "source": [
    "## 34. Rhombus of Numbers"
   ]
  },
  {
   "cell_type": "code",
   "execution_count": 37,
   "id": "8bed7d1d",
   "metadata": {},
   "outputs": [
    {
     "name": "stdout",
     "output_type": "stream",
     "text": [
      "    1\n",
      "   12\n",
      "  123\n",
      " 1234\n",
      "12345\n",
      " 1234\n",
      "  123\n",
      "   12\n",
      "    1\n"
     ]
    }
   ],
   "source": [
    "\n",
    "\n",
    "for i in range(1, 6):\n",
    "    print(' ' * (5 - i) + ''.join(str(x) for x in range(1, i + 1)))\n",
    "for i in range(4, 0, -1):\n",
    "    print(' ' * (5 - i) + ''.join(str(x) for x in range(1, i + 1)))"
   ]
  },
  {
   "cell_type": "markdown",
   "id": "28a40519",
   "metadata": {},
   "source": [
    "## 341. Rhombus of Numbers"
   ]
  },
  {
   "cell_type": "code",
   "execution_count": 38,
   "id": "bbaf91b9",
   "metadata": {},
   "outputs": [
    {
     "name": "stdout",
     "output_type": "stream",
     "text": [
      "    1\n",
      "   12\n",
      "  123\n",
      " 1234\n",
      "12345\n"
     ]
    }
   ],
   "source": [
    "\n",
    "\n",
    "for i in range(1, 6):\n",
    "    print(' ' * (5 - i) + ''.join(str(x) for x in range(1, i + 1)))\n"
   ]
  },
  {
   "cell_type": "markdown",
   "id": "16716b7c",
   "metadata": {},
   "source": [
    "## 342. Rhombus of Numbers"
   ]
  },
  {
   "cell_type": "code",
   "execution_count": 39,
   "id": "cdec9f89",
   "metadata": {},
   "outputs": [
    {
     "name": "stdout",
     "output_type": "stream",
     "text": [
      " 1234\n",
      "  123\n",
      "   12\n",
      "    1\n"
     ]
    }
   ],
   "source": [
    "\n",
    "\n",
    "for i in range(4, 0, -1):\n",
    "    print(' ' * (5 - i) + ''.join(str(x) for x in range(1, i + 1)))"
   ]
  },
  {
   "cell_type": "markdown",
   "id": "939dbedf",
   "metadata": {},
   "source": [
    "## 35. Number Pattern (Decreasing)"
   ]
  },
  {
   "cell_type": "code",
   "execution_count": 40,
   "id": "bb75b382",
   "metadata": {},
   "outputs": [
    {
     "name": "stdout",
     "output_type": "stream",
     "text": [
      "1 2 3 4 5\n",
      "1 2 3 4\n",
      "1 2 3\n",
      "1 2\n",
      "1\n"
     ]
    }
   ],
   "source": [
    "\n",
    "\n",
    "for i in range(5, 0, -1):\n",
    "    print(' '.join(str(x) for x in range(1, i + 1)))"
   ]
  },
  {
   "cell_type": "markdown",
   "id": "0d5cd761",
   "metadata": {},
   "source": [
    "## 36. Hollow Inverted Pyramid"
   ]
  },
  {
   "cell_type": "code",
   "execution_count": 41,
   "id": "38380011",
   "metadata": {},
   "outputs": [
    {
     "name": "stdout",
     "output_type": "stream",
     "text": [
      "********\n",
      "*    *\n",
      "*  *\n",
      "**\n",
      "\n"
     ]
    }
   ],
   "source": [
    "\n",
    "for i in range(5, 0, -1):\n",
    "    for j in range(1, 2 * i - 1):\n",
    "        if j == 1 or j == 2 * i - 2 or i == 5:\n",
    "            print('*', end='')\n",
    "        else:\n",
    "            print(' ', end='')\n",
    "    print()"
   ]
  },
  {
   "cell_type": "markdown",
   "id": "732a259d",
   "metadata": {},
   "source": [
    "## 37. Cross Pattern"
   ]
  },
  {
   "cell_type": "code",
   "execution_count": 42,
   "id": "dae6fd22",
   "metadata": {},
   "outputs": [
    {
     "name": "stdout",
     "output_type": "stream",
     "text": [
      "*   *\n",
      " * * \n",
      "  *  \n",
      " * * \n",
      "*   *\n"
     ]
    }
   ],
   "source": [
    "\n",
    "\n",
    "for i in range(5):\n",
    "    for j in range(5):\n",
    "        if i == j or i + j == 4:\n",
    "            print('*', end='')\n",
    "        else:\n",
    "            print(' ', end='')\n",
    "    print()"
   ]
  },
  {
   "cell_type": "markdown",
   "id": "8f81bff9",
   "metadata": {},
   "source": [
    "## 38. Number Inverted Pyramid\n"
   ]
  },
  {
   "cell_type": "code",
   "execution_count": 43,
   "id": "a86450fd",
   "metadata": {},
   "outputs": [
    {
     "name": "stdout",
     "output_type": "stream",
     "text": [
      "1 2 3 4 5\n",
      "1 2 3 4\n",
      "1 2 3\n",
      "1 2\n",
      "1\n"
     ]
    }
   ],
   "source": [
    "\n",
    "for i in range(5, 0, -1):\n",
    "      print(' '.join(str(x) for x in range(1, i + 1)))"
   ]
  },
  {
   "cell_type": "markdown",
   "id": "945c51a9",
   "metadata": {},
   "source": [
    "## 39. Right Angle Star Triangle"
   ]
  },
  {
   "cell_type": "code",
   "execution_count": 44,
   "id": "ebdcaa57",
   "metadata": {},
   "outputs": [
    {
     "name": "stdout",
     "output_type": "stream",
     "text": [
      "    *\n",
      "   **\n",
      "  ***\n",
      " ****\n",
      "*****\n"
     ]
    }
   ],
   "source": [
    "\n",
    "\n",
    "for i in range(1, 6):\n",
    "    print(' ' * (5 - i) + '*' * i)"
   ]
  },
  {
   "cell_type": "markdown",
   "id": "d8a3aa98",
   "metadata": {},
   "source": [
    "## 40. Left Angle Number Triangle"
   ]
  },
  {
   "cell_type": "code",
   "execution_count": 45,
   "id": "7014f7c7",
   "metadata": {},
   "outputs": [
    {
     "name": "stdout",
     "output_type": "stream",
     "text": [
      "1\n",
      "1 2\n",
      "1 2 3\n",
      "1 2 3 4\n",
      "1 2 3 4 5\n"
     ]
    }
   ],
   "source": [
    "\n",
    "\n",
    "for i in range(1, 6):\n",
    "    print(' '.join(str(x) for x in range(1, i + 1)))"
   ]
  },
  {
   "cell_type": "markdown",
   "id": "351fca56",
   "metadata": {},
   "source": [
    "## 41. Star Hollow Triangle"
   ]
  },
  {
   "cell_type": "code",
   "execution_count": 46,
   "id": "626afe95",
   "metadata": {},
   "outputs": [
    {
     "name": "stdout",
     "output_type": "stream",
     "text": [
      "*    \n",
      "**   \n",
      "* *  \n",
      "*  * \n",
      "*****\n"
     ]
    }
   ],
   "source": [
    "\n",
    "\n",
    "for i in range(1, 6):\n",
    "    for j in range(1, 6):\n",
    "        if j == 1 or j == i or i == 5:\n",
    "            print('*', end='')\n",
    "        else:\n",
    "            print(' ', end='')\n",
    "    print()"
   ]
  },
  {
   "cell_type": "markdown",
   "id": "316120af",
   "metadata": {},
   "source": [
    "## 42. Upside Down Right Triangle"
   ]
  },
  {
   "cell_type": "code",
   "execution_count": 47,
   "id": "0d5901ec",
   "metadata": {},
   "outputs": [
    {
     "name": "stdout",
     "output_type": "stream",
     "text": [
      "*****\n",
      " ****\n",
      "  ***\n",
      "   **\n",
      "    *\n"
     ]
    }
   ],
   "source": [
    "\n",
    "\n",
    "for i in range(5, 0, -1):\n",
    "    print(' ' * (5 - i) + '*' * i)"
   ]
  },
  {
   "cell_type": "markdown",
   "id": "08439545",
   "metadata": {},
   "source": [
    "## 43. Parallelogram Star Pattern"
   ]
  },
  {
   "cell_type": "code",
   "execution_count": 48,
   "id": "84463685",
   "metadata": {},
   "outputs": [
    {
     "name": "stdout",
     "output_type": "stream",
     "text": [
      "*****\n",
      " *****\n",
      "  *****\n",
      "   *****\n",
      "    *****\n"
     ]
    }
   ],
   "source": [
    "\n",
    "\n",
    "for i in range(5):\n",
    "    print(' ' * i + '*' * 5)"
   ]
  },
  {
   "cell_type": "markdown",
   "id": "e2732656",
   "metadata": {},
   "source": [
    "## 44. Inverted Parallelogram Pattern"
   ]
  },
  {
   "cell_type": "code",
   "execution_count": 49,
   "id": "9d316e4b",
   "metadata": {},
   "outputs": [
    {
     "name": "stdout",
     "output_type": "stream",
     "text": [
      "     *****\n",
      "    *****\n",
      "   *****\n",
      "  *****\n",
      " *****\n"
     ]
    }
   ],
   "source": [
    "\n",
    "\n",
    "for i in range(5):\n",
    "    print(' ' * (5 - i) + '*' * 5)"
   ]
  },
  {
   "cell_type": "markdown",
   "id": "7e014568",
   "metadata": {},
   "source": [
    "## 45. Reverse Hollow Diamond"
   ]
  },
  {
   "cell_type": "code",
   "execution_count": 50,
   "id": "88733b7d",
   "metadata": {},
   "outputs": [
    {
     "name": "stdout",
     "output_type": "stream",
     "text": [
      "*       *\n",
      " *     *\n",
      "  *   *\n",
      "   * *\n",
      "    *\n",
      " *     *\n",
      "  *   *\n",
      "   * *\n",
      "    *\n"
     ]
    }
   ],
   "source": [
    "\n",
    "\n",
    "for i in range(5, 0, -1):\n",
    "    print(' ' * (5 - i) + '*' + ' ' * (2 * i - 3) + ('*' if i > 1 else ''))\n",
    "for i in range(4, 0, -1):\n",
    "    print(' ' * (5 - i) + '*' + ' ' * (2 * i - 3) + ('*' if i > 1 else '')) "
   ]
  },
  {
   "cell_type": "markdown",
   "id": "08cbf999",
   "metadata": {},
   "source": [
    "## 46. Inverted Hollow Pyramid with Stars"
   ]
  },
  {
   "cell_type": "code",
   "execution_count": 51,
   "id": "6d0e1c63",
   "metadata": {},
   "outputs": [
    {
     "name": "stdout",
     "output_type": "stream",
     "text": [
      "********\n",
      "*    *\n",
      "*  *\n",
      "**\n",
      "\n"
     ]
    }
   ],
   "source": [
    "\n",
    "\n",
    "for i in range(5, 0, -1):\n",
    "    for j in range(1, 2 * i - 1):\n",
    "        if j == 1 or j == 2 * i - 2 or i == 5:\n",
    "            print('*', end='')\n",
    "        else:\n",
    "            print(' ', end='')\n",
    "    print()"
   ]
  },
  {
   "cell_type": "markdown",
   "id": "fc533d7f",
   "metadata": {},
   "source": [
    "## 47. Full Hollow Diamond"
   ]
  },
  {
   "cell_type": "code",
   "execution_count": 52,
   "id": "5afd5dda",
   "metadata": {},
   "outputs": [
    {
     "name": "stdout",
     "output_type": "stream",
     "text": [
      "    *\n",
      "   * *\n",
      "  *   *\n",
      " *     *\n",
      "*       *\n",
      " *     *\n",
      "  *   *\n",
      "   * *\n",
      "    *\n"
     ]
    }
   ],
   "source": [
    "\n",
    "\n",
    "for i in range(1, 6):\n",
    "    for j in range(1, 6 - i):\n",
    "        print(' ', end='')\n",
    "    for j in range(1, 2 * i):\n",
    "        if j == 1 or j == 2 * i - 1:\n",
    "            print('*', end='')\n",
    "        else:\n",
    "            print(' ', end='')\n",
    "    print()\n",
    "for i in range(4, 0, -1):\n",
    "    for j in range(1, 6 - i):\n",
    "        print(' ', end='')\n",
    "    for j in range(1, 2 * i):\n",
    "        if j == 1 or j == 2 * i - 1:\n",
    "            print('*', end='')\n",
    "        else:\n",
    "            print(' ', end='')\n",
    "    print()"
   ]
  },
  {
   "cell_type": "markdown",
   "id": "9560babf",
   "metadata": {},
   "source": [
    "## 48. Rectangle of Numbers"
   ]
  },
  {
   "cell_type": "code",
   "execution_count": 53,
   "id": "76c6c6ed",
   "metadata": {},
   "outputs": [
    {
     "name": "stdout",
     "output_type": "stream",
     "text": [
      "1 2 3 4 5 \n",
      "1 2 3 4 5 \n",
      "1 2 3 4 5 \n",
      "1 2 3 4 5 \n",
      "1 2 3 4 5 \n"
     ]
    }
   ],
   "source": [
    "\n",
    "\n",
    "for i in range(5):\n",
    "    for j in range(1, 6):\n",
    "        print(j, end=' ')\n",
    "    print()"
   ]
  },
  {
   "cell_type": "markdown",
   "id": "bb7aec1d",
   "metadata": {},
   "source": [
    "## 49. Reverse Star Pattern"
   ]
  },
  {
   "cell_type": "code",
   "execution_count": 54,
   "id": "ad37bc9c",
   "metadata": {},
   "outputs": [
    {
     "name": "stdout",
     "output_type": "stream",
     "text": [
      "*****\n",
      "****\n",
      "***\n",
      "**\n",
      "*\n"
     ]
    }
   ],
   "source": [
    "\n",
    "\n",
    "for i in range(5, 0, -1):\n",
    "    print('*' * i)"
   ]
  },
  {
   "cell_type": "markdown",
   "id": "576936e6",
   "metadata": {},
   "source": [
    "## 50. Pyramid of Numbers"
   ]
  },
  {
   "cell_type": "code",
   "execution_count": 55,
   "id": "26c8d877",
   "metadata": {},
   "outputs": [
    {
     "name": "stdout",
     "output_type": "stream",
     "text": [
      "    1\n",
      "   12\n",
      "  123\n",
      " 1234\n",
      "12345\n"
     ]
    }
   ],
   "source": [
    "\n",
    "\n",
    "for i in range(1, 6):\n",
    "    print(' ' * (5 - i) + ''.join(str(x) for x in range(1, i + 1)))"
   ]
  },
  {
   "cell_type": "code",
   "execution_count": null,
   "id": "577135a4",
   "metadata": {},
   "outputs": [],
   "source": []
  }
 ],
 "metadata": {
  "kernelspec": {
   "display_name": "base",
   "language": "python",
   "name": "python3"
  },
  "language_info": {
   "codemirror_mode": {
    "name": "ipython",
    "version": 3
   },
   "file_extension": ".py",
   "mimetype": "text/x-python",
   "name": "python",
   "nbconvert_exporter": "python",
   "pygments_lexer": "ipython3",
   "version": "3.12.7"
  }
 },
 "nbformat": 4,
 "nbformat_minor": 5
}
